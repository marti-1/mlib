{
 "cells": [
  {
   "cell_type": "code",
   "execution_count": 2,
   "metadata": {},
   "outputs": [],
   "source": [
    "from sqlthis import DS\n",
    "import pandas as pd\n",
    "from pandasql import PandaSQL"
   ]
  },
  {
   "cell_type": "markdown",
   "metadata": {},
   "source": [
    "## Load data"
   ]
  },
  {
   "cell_type": "code",
   "execution_count": 2,
   "metadata": {},
   "outputs": [],
   "source": [
    "xbtusd_trades = pd.read_csv('kraken_xbtusd_trades.csv')"
   ]
  },
  {
   "cell_type": "code",
   "execution_count": 47,
   "metadata": {
    "collapsed": true
   },
   "outputs": [
    {
     "data": {
      "text/html": [
       "<div>\n",
       "<style scoped>\n",
       "    .dataframe tbody tr th:only-of-type {\n",
       "        vertical-align: middle;\n",
       "    }\n",
       "\n",
       "    .dataframe tbody tr th {\n",
       "        vertical-align: top;\n",
       "    }\n",
       "\n",
       "    .dataframe thead th {\n",
       "        text-align: right;\n",
       "    }\n",
       "</style>\n",
       "<table border=\"1\" class=\"dataframe\">\n",
       "  <thead>\n",
       "    <tr style=\"text-align: right;\">\n",
       "      <th></th>\n",
       "      <th>price</th>\n",
       "      <th>volume</th>\n",
       "      <th>unixtime</th>\n",
       "      <th>buysell</th>\n",
       "      <th>marketlimit</th>\n",
       "      <th>id</th>\n",
       "    </tr>\n",
       "  </thead>\n",
       "  <tbody>\n",
       "    <tr>\n",
       "      <th>0</th>\n",
       "      <td>7910.0</td>\n",
       "      <td>3.659740e-03</td>\n",
       "      <td>1569771156</td>\n",
       "      <td>s</td>\n",
       "      <td>m</td>\n",
       "      <td>None</td>\n",
       "    </tr>\n",
       "    <tr>\n",
       "      <th>1</th>\n",
       "      <td>7910.0</td>\n",
       "      <td>5.000000e-01</td>\n",
       "      <td>1569771156</td>\n",
       "      <td>s</td>\n",
       "      <td>m</td>\n",
       "      <td>None</td>\n",
       "    </tr>\n",
       "    <tr>\n",
       "      <th>2</th>\n",
       "      <td>7910.0</td>\n",
       "      <td>5.000000e-02</td>\n",
       "      <td>1569771156</td>\n",
       "      <td>s</td>\n",
       "      <td>m</td>\n",
       "      <td>None</td>\n",
       "    </tr>\n",
       "    <tr>\n",
       "      <th>3</th>\n",
       "      <td>7909.1</td>\n",
       "      <td>1.446340e+00</td>\n",
       "      <td>1569771156</td>\n",
       "      <td>s</td>\n",
       "      <td>m</td>\n",
       "      <td>None</td>\n",
       "    </tr>\n",
       "    <tr>\n",
       "      <th>4</th>\n",
       "      <td>7909.1</td>\n",
       "      <td>5.000000e-01</td>\n",
       "      <td>1569771156</td>\n",
       "      <td>s</td>\n",
       "      <td>m</td>\n",
       "      <td>None</td>\n",
       "    </tr>\n",
       "    <tr>\n",
       "      <th>5</th>\n",
       "      <td>7909.1</td>\n",
       "      <td>3.791002e-01</td>\n",
       "      <td>1569771156</td>\n",
       "      <td>s</td>\n",
       "      <td>m</td>\n",
       "      <td>None</td>\n",
       "    </tr>\n",
       "    <tr>\n",
       "      <th>6</th>\n",
       "      <td>7909.1</td>\n",
       "      <td>9.076600e-04</td>\n",
       "      <td>1569771156</td>\n",
       "      <td>s</td>\n",
       "      <td>m</td>\n",
       "      <td>None</td>\n",
       "    </tr>\n",
       "    <tr>\n",
       "      <th>7</th>\n",
       "      <td>7909.1</td>\n",
       "      <td>2.170000e-06</td>\n",
       "      <td>1569771156</td>\n",
       "      <td>s</td>\n",
       "      <td>m</td>\n",
       "      <td>None</td>\n",
       "    </tr>\n",
       "    <tr>\n",
       "      <th>8</th>\n",
       "      <td>7909.1</td>\n",
       "      <td>1.000000e-08</td>\n",
       "      <td>1569771156</td>\n",
       "      <td>s</td>\n",
       "      <td>m</td>\n",
       "      <td>None</td>\n",
       "    </tr>\n",
       "    <tr>\n",
       "      <th>9</th>\n",
       "      <td>7909.1</td>\n",
       "      <td>2.500000e-01</td>\n",
       "      <td>1569771156</td>\n",
       "      <td>s</td>\n",
       "      <td>m</td>\n",
       "      <td>None</td>\n",
       "    </tr>\n",
       "  </tbody>\n",
       "</table>\n",
       "</div>"
      ],
      "text/plain": [
       "    price        volume    unixtime buysell marketlimit    id\n",
       "0  7910.0  3.659740e-03  1569771156       s           m  None\n",
       "1  7910.0  5.000000e-01  1569771156       s           m  None\n",
       "2  7910.0  5.000000e-02  1569771156       s           m  None\n",
       "3  7909.1  1.446340e+00  1569771156       s           m  None\n",
       "4  7909.1  5.000000e-01  1569771156       s           m  None\n",
       "5  7909.1  3.791002e-01  1569771156       s           m  None\n",
       "6  7909.1  9.076600e-04  1569771156       s           m  None\n",
       "7  7909.1  2.170000e-06  1569771156       s           m  None\n",
       "8  7909.1  1.000000e-08  1569771156       s           m  None\n",
       "9  7909.1  2.500000e-01  1569771156       s           m  None"
      ]
     },
     "execution_count": 47,
     "metadata": {},
     "output_type": "execute_result"
    }
   ],
   "source": [
    "pysqldf = PandaSQL(persist=True)\n",
    "pysqldf(\"SELECT * FROM xbtusd_trades LIMIT 10\", globals())"
   ]
  },
  {
   "cell_type": "code",
   "execution_count": null,
   "metadata": {},
   "outputs": [],
   "source": [
    "ds = DS()\n",
    "\n",
    "ds.import_csv('kraken_xbtusd_trades.csv', 'kraken_xbtusd_trades',\n",
    "    schema = {\n",
    "        'price': float,\n",
    "        'volume': float,\n",
    "        'unixtime': int\n",
    "    }\n",
    ")"
   ]
  },
  {
   "cell_type": "markdown",
   "metadata": {},
   "source": [
    "# Benchmarks"
   ]
  },
  {
   "cell_type": "markdown",
   "metadata": {},
   "source": [
    "Size of the CSV file used is 809M."
   ]
  },
  {
   "cell_type": "markdown",
   "metadata": {},
   "source": [
    "## SELECT"
   ]
  },
  {
   "cell_type": "code",
   "execution_count": 36,
   "metadata": {},
   "outputs": [],
   "source": [
    "import timeit"
   ]
  },
  {
   "cell_type": "markdown",
   "metadata": {},
   "source": [
    "**pandas.DataFrame**"
   ]
  },
  {
   "cell_type": "markdown",
   "metadata": {},
   "source": [
    "**sqlthis.DS**"
   ]
  },
  {
   "cell_type": "code",
   "execution_count": 41,
   "metadata": {},
   "outputs": [
    {
     "data": {
      "text/plain": [
       "0.006768370047211647"
      ]
     },
     "execution_count": 41,
     "metadata": {},
     "output_type": "execute_result"
    }
   ],
   "source": [
    "timeit.timeit(\"ds.select('select * from kraken_xbtusd_trades limit 10')\", number=10, globals=globals())"
   ]
  },
  {
   "cell_type": "markdown",
   "metadata": {},
   "source": [
    "**pandasql.sqldf**"
   ]
  },
  {
   "cell_type": "code",
   "execution_count": 48,
   "metadata": {},
   "outputs": [
    {
     "data": {
      "text/plain": [
       "0.026426297961734235"
      ]
     },
     "execution_count": 48,
     "metadata": {},
     "output_type": "execute_result"
    }
   ],
   "source": [
    "timeit.timeit('pysqldf(\"SELECT * FROM xbtusd_trades LIMIT 10\", globals())', number=10, globals=globals())"
   ]
  },
  {
   "cell_type": "markdown",
   "metadata": {},
   "source": [
    "## Memory footprint"
   ]
  },
  {
   "cell_type": "code",
   "execution_count": 34,
   "metadata": {},
   "outputs": [],
   "source": [
    "import sys"
   ]
  },
  {
   "cell_type": "markdown",
   "metadata": {},
   "source": [
    "**pandas.DataFrame**"
   ]
  },
  {
   "cell_type": "code",
   "execution_count": 35,
   "metadata": {},
   "outputs": [
    {
     "data": {
      "text/plain": [
       "3471.22123336792"
      ]
     },
     "execution_count": 35,
     "metadata": {},
     "output_type": "execute_result"
    }
   ],
   "source": [
    "sys.getsizeof(xbtusd_trades)/1024**2"
   ]
  },
  {
   "cell_type": "markdown",
   "metadata": {},
   "source": [
    "**sqlthis.DS**"
   ]
  },
  {
   "cell_type": "code",
   "execution_count": 50,
   "metadata": {},
   "outputs": [
    {
     "data": {
      "text/plain": [
       "849.01953125"
      ]
     },
     "execution_count": 50,
     "metadata": {},
     "output_type": "execute_result"
    }
   ],
   "source": [
    "ds.dbsize()/1024**2"
   ]
  },
  {
   "cell_type": "markdown",
   "metadata": {},
   "source": [
    "**pandasql.sqldf**\n",
    "\n",
    "Not sure how to measure this properly ATM. But in principle, it uses in memory sqlite just like **sqlthis.DS**. However, additionally Pandas DataFrames need to be carried arround."
   ]
  }
 ],
 "metadata": {
  "kernelspec": {
   "display_name": "Python 3",
   "language": "python",
   "name": "python3"
  },
  "language_info": {
   "codemirror_mode": {
    "name": "ipython",
    "version": 3
   },
   "file_extension": ".py",
   "mimetype": "text/x-python",
   "name": "python",
   "nbconvert_exporter": "python",
   "pygments_lexer": "ipython3",
   "version": "3.6.9"
  }
 },
 "nbformat": 4,
 "nbformat_minor": 4
}
